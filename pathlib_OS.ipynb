{
 "cells": [
  {
   "attachments": {},
   "cell_type": "markdown",
   "metadata": {},
   "source": [
    "## Biblioteca pathlib"
   ]
  },
  {
   "cell_type": "code",
   "execution_count": 14,
   "metadata": {},
   "outputs": [],
   "source": [
    "from pathlib import Path"
   ]
  },
  {
   "attachments": {},
   "cell_type": "markdown",
   "metadata": {},
   "source": [
    "## Indicando um caminho"
   ]
  },
  {
   "cell_type": "code",
   "execution_count": 5,
   "metadata": {},
   "outputs": [],
   "source": [
    "caminho = pathlib.Path(r'C:\\Users\\devda\\Desktop')"
   ]
  },
  {
   "attachments": {},
   "cell_type": "markdown",
   "metadata": {},
   "source": [
    "## Verificando de o caminho existe (retorno boleano)"
   ]
  },
  {
   "cell_type": "code",
   "execution_count": 6,
   "metadata": {},
   "outputs": [
    {
     "data": {
      "text/plain": [
       "True"
      ]
     },
     "execution_count": 6,
     "metadata": {},
     "output_type": "execute_result"
    }
   ],
   "source": [
    "\n",
    "caminho.exists()"
   ]
  },
  {
   "attachments": {},
   "cell_type": "markdown",
   "metadata": {},
   "source": [
    "## Iterdir: Pega todos os diretórios e arquivos"
   ]
  },
  {
   "cell_type": "code",
   "execution_count": 7,
   "metadata": {},
   "outputs": [
    {
     "name": "stdout",
     "output_type": "stream",
     "text": [
      "<class 'generator'>\n"
     ]
    }
   ],
   "source": [
    "lista = caminho.iterdir()\n",
    "print(type(lista))"
   ]
  },
  {
   "attachments": {},
   "cell_type": "markdown",
   "metadata": {},
   "source": [
    "## Usando for para exibir os dados da lista + Name"
   ]
  },
  {
   "cell_type": "code",
   "execution_count": 8,
   "metadata": {},
   "outputs": [
    {
     "name": "stdout",
     "output_type": "stream",
     "text": [
      "AD-Pandas_Essenciais\n",
      "BD DIAGRAM.drawio\n",
      "BKP Github\n",
      "c++\n",
      "CapCut.lnk\n",
      "Captura de tela 2023-04-24 174950.jpg\n",
      "CGPT_voice\n",
      "Curriculo - Daniel de Souza Amorim.pdf\n",
      "CURRICULO DSA DS1.docx\n",
      "desktop.ini\n",
      "eee.drawio\n",
      "Elizabeth cert\n",
      "GitHub Desktop.lnk\n",
      "Jupyter\n",
      "Livros\n",
      "mais aula pandas e pathlib.txt\n",
      "Minhas Aulas\n",
      "Musica organizar\n",
      "Musicas (organizadas)\n",
      "newpasta\n",
      "Novo(a) Documento de Texto.txt\n",
      "pastateste\n",
      "Pointofix.lnk\n",
      "Pos graduação\n",
      "Print avulso\n",
      "Projetos PYTHON\n",
      "Softwares\n",
      "Visual Studio Code.lnk\n"
     ]
    }
   ],
   "source": [
    "for item in lista:\n",
    "    print(item.name)"
   ]
  },
  {
   "attachments": {},
   "cell_type": "markdown",
   "metadata": {},
   "source": [
    "## Mkdir(): Cria uma pasta no caminho especificado"
   ]
  },
  {
   "cell_type": "code",
   "execution_count": 15,
   "metadata": {},
   "outputs": [],
   "source": [
    "pasta = Path(f'{caminho}\\\\pastateste')\n",
    "pasta.mkdir()"
   ]
  },
  {
   "attachments": {},
   "cell_type": "markdown",
   "metadata": {},
   "source": [
    "## Joinpath(): Podemos usar para criar subpastas"
   ]
  },
  {
   "cell_type": "code",
   "execution_count": 16,
   "metadata": {},
   "outputs": [],
   "source": [
    "subpasta = pasta.joinpath('subpasta')\n",
    "subpasta.mkdir()"
   ]
  },
  {
   "attachments": {},
   "cell_type": "markdown",
   "metadata": {},
   "source": [
    "## Rmdir(): exclui pasta no caminho especificado"
   ]
  },
  {
   "cell_type": "code",
   "execution_count": null,
   "metadata": {},
   "outputs": [],
   "source": [
    "excluir = Path(f'{caminho}\\\\pastateste\\\\subpasta')\n",
    "excluir.rmdir()"
   ]
  },
  {
   "attachments": {},
   "cell_type": "markdown",
   "metadata": {},
   "source": [
    "## Parent: Usado para pegar o caminho pai de um arquivo ou pasta"
   ]
  },
  {
   "cell_type": "code",
   "execution_count": 17,
   "metadata": {},
   "outputs": [
    {
     "name": "stdout",
     "output_type": "stream",
     "text": [
      "C:\\Users\\devda\\Desktop\\pastateste\n"
     ]
    }
   ],
   "source": [
    "print(subpasta.parent) #usadno name mostrará somente o nome "
   ]
  },
  {
   "attachments": {},
   "cell_type": "markdown",
   "metadata": {},
   "source": [
    "## glob('*.extensão'): podemos pegar lista de todos os arquivos com a extensão solicitada"
   ]
  },
  {
   "cell_type": "code",
   "execution_count": null,
   "metadata": {},
   "outputs": [
    {
     "name": "stdout",
     "output_type": "stream",
     "text": [
      "C:\\Users\\devda\\Desktop\\Captura de tela 2023-04-24 174950.jpg\n"
     ]
    }
   ],
   "source": [
    "arq_ext = list(caminho.glob('*.jpg'))\n",
    "\n",
    "for i in range(len(arq_ext)):\n",
    "    print(arq_ext[i])"
   ]
  },
  {
   "attachments": {},
   "cell_type": "markdown",
   "metadata": {},
   "source": [
    "## Dotenv para armazenar variáveis de ambiente"
   ]
  },
  {
   "cell_type": "code",
   "execution_count": 21,
   "metadata": {},
   "outputs": [
    {
     "name": "stdout",
     "output_type": "stream",
     "text": [
      "None\n"
     ]
    }
   ],
   "source": [
    "from dotenv import load_dotenv #pip install python-dotenv\n",
    "import os\n",
    "\n",
    "load_dotenv(r'C:\\Users\\devda\\Desktop\\pastateste\\subpasta\\.env')\n",
    "\n",
    "senha = os.getenv('MINHA_SENHA')\n",
    "\n",
    "print(senha)"
   ]
  },
  {
   "attachments": {},
   "cell_type": "markdown",
   "metadata": {},
   "source": [
    "## OS é bem parecido com o pathlib com ele podemos manipular pastas e arquivos"
   ]
  },
  {
   "cell_type": "code",
   "execution_count": 22,
   "metadata": {},
   "outputs": [
    {
     "data": {
      "text/plain": [
       "'c:\\\\Users\\\\devda\\\\Documents\\\\GitHub\\\\Topico-Modulos-e-bibliotecas'"
      ]
     },
     "execution_count": 22,
     "metadata": {},
     "output_type": "execute_result"
    }
   ],
   "source": [
    "# obtendo diretório atual da aplicação\n",
    "os.getcwd()"
   ]
  },
  {
   "cell_type": "code",
   "execution_count": 23,
   "metadata": {},
   "outputs": [],
   "source": [
    "# criando uma pasta com OS\n",
    "os.mkdir(f'{caminho}\\\\newpasta')"
   ]
  },
  {
   "cell_type": "code",
   "execution_count": 24,
   "metadata": {},
   "outputs": [],
   "source": [
    "# criando um arquivo e escrever nele:\n",
    "with open (f'{caminho}\\\\newpasta\\\\oi.txt', 'w') as f: # write\n",
    "    f.write(\"hello word\")\n"
   ]
  },
  {
   "cell_type": "code",
   "execution_count": 25,
   "metadata": {},
   "outputs": [],
   "source": [
    "# renomear arquivo ou pasta\n",
    "os.rename(f'{caminho}\\\\newpasta\\\\oi.txt', f'{caminho}\\\\newpasta\\\\ola.txt')"
   ]
  },
  {
   "cell_type": "code",
   "execution_count": null,
   "metadata": {},
   "outputs": [],
   "source": [
    "# excluir um arquivo ou pasta\n",
    "os.unlink(\"arquivo.extensao\")\n",
    "os.rmdir(\"pasta\")"
   ]
  },
  {
   "attachments": {},
   "cell_type": "markdown",
   "metadata": {},
   "source": [
    "## Também podemos usar OS para definir e ler variáveis de ambiente"
   ]
  },
  {
   "cell_type": "code",
   "execution_count": 27,
   "metadata": {},
   "outputs": [],
   "source": [
    "# Definindo\n",
    "os.environ['BANCO'] = \"sql\"\n",
    "os.environ['CODIGO'] = \"111\""
   ]
  },
  {
   "cell_type": "code",
   "execution_count": 28,
   "metadata": {},
   "outputs": [
    {
     "name": "stdout",
     "output_type": "stream",
     "text": [
      "111\n"
     ]
    }
   ],
   "source": [
    "#Lendo\n",
    "valor = os.environ['CODIGO']\n",
    "print(valor)"
   ]
  },
  {
   "attachments": {},
   "cell_type": "markdown",
   "metadata": {},
   "source": [
    "## Salvando as variaveis no arquivo .env com OS"
   ]
  },
  {
   "cell_type": "code",
   "execution_count": 29,
   "metadata": {},
   "outputs": [
    {
     "name": "stdout",
     "output_type": "stream",
     "text": [
      "sql\n",
      "111\n"
     ]
    }
   ],
   "source": [
    "# Especificar quais chaves guardar em .env\n",
    "chaves_especificas = ['BANCO', 'CODIGO']\n",
    "\n",
    "for chave in chaves_especificas:\n",
    "        valor = os.environ.get(chave)\n",
    "        print(valor)\n",
    "\n",
    "# #Se não especificar pega todas as variaveis do sistema operacional\n",
    "# for chave, valor in os.environ.items():\n",
    "#         print(f'{chave}={valor}\\n')"
   ]
  },
  {
   "cell_type": "code",
   "execution_count": 30,
   "metadata": {},
   "outputs": [],
   "source": [
    "caminho_env = r'C:\\Users\\devda\\Desktop\\pastateste\\subpasta\\.env'\n",
    "\n",
    "# Lembre-se se arquivo nao existe ele cria\n",
    "with open (caminho_env, 'w') as p:\n",
    "    for chave in chaves_especificas:\n",
    "        valor = os.environ.get(chave)\n",
    "        p.write(f'{chave}={valor}\\n')\n",
    "        "
   ]
  }
 ],
 "metadata": {
  "kernelspec": {
   "display_name": "Python 3",
   "language": "python",
   "name": "python3"
  },
  "language_info": {
   "codemirror_mode": {
    "name": "ipython",
    "version": 3
   },
   "file_extension": ".py",
   "mimetype": "text/x-python",
   "name": "python",
   "nbconvert_exporter": "python",
   "pygments_lexer": "ipython3",
   "version": "3.9.13"
  },
  "orig_nbformat": 4
 },
 "nbformat": 4,
 "nbformat_minor": 2
}
